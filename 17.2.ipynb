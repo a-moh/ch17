{
 "cells": [
  {
   "cell_type": "code",
   "execution_count": null,
   "id": "3bd2b048",
   "metadata": {},
   "outputs": [],
   "source": [
    "# Adiba Mohammed\n",
    "# 12/6/2021\n",
    "# 17.2 textbook exercise\n",
    "# books sql"
   ]
  },
  {
   "cell_type": "code",
   "execution_count": 1,
   "id": "ae5a22e5",
   "metadata": {},
   "outputs": [],
   "source": [
    "import sqlite3"
   ]
  },
  {
   "cell_type": "code",
   "execution_count": 2,
   "id": "4d29c451",
   "metadata": {},
   "outputs": [],
   "source": [
    "connection = sqlite3.connect('books.db')"
   ]
  },
  {
   "cell_type": "code",
   "execution_count": 8,
   "id": "5341a454",
   "metadata": {},
   "outputs": [],
   "source": [
    "import pandas as pd"
   ]
  },
  {
   "cell_type": "code",
   "execution_count": 3,
   "id": "50785e35",
   "metadata": {},
   "outputs": [],
   "source": [
    "cursor = connection.cursor()"
   ]
  },
  {
   "cell_type": "code",
   "execution_count": 11,
   "id": "35cb6a3e",
   "metadata": {},
   "outputs": [],
   "source": [
    "pd.read_sq = cursor.execute('SELECT * FROM titles')"
   ]
  },
  {
   "cell_type": "code",
   "execution_count": 12,
   "id": "06b15642",
   "metadata": {},
   "outputs": [],
   "source": [
    "records = cursor.fetchall()"
   ]
  },
  {
   "cell_type": "code",
   "execution_count": 14,
   "id": "ec1209bd",
   "metadata": {},
   "outputs": [
    {
     "name": "stdout",
     "output_type": "stream",
     "text": [
      "[('0135404673', 'Intro to Python for CS and DS', 1, '2020'), ('0132151006', 'Internet & WWW How to Program', 5, '2012'), ('0134743350', 'Java How to Program', 11, '2018'), ('0133976890', 'C How to Program', 8, '2016'), ('0133406954', 'Visual Basic 2012 How to Program', 6, '2014'), ('0134601548', 'Visual C# How to Program', 6, '2017'), ('0136151574', 'Visual C++ How to Program', 2, '2008'), ('0134448235', 'C++ How to Program', 10, '2017'), ('0134444302', 'Android How to Program', 3, '2017'), ('0134289366', 'Android 6 for Programmers', 3, '2016')]\n"
     ]
    }
   ],
   "source": [
    "print(records)"
   ]
  },
  {
   "cell_type": "code",
   "execution_count": null,
   "id": "6579fded",
   "metadata": {},
   "outputs": [],
   "source": []
  }
 ],
 "metadata": {
  "kernelspec": {
   "display_name": "Python 3 (ipykernel)",
   "language": "python",
   "name": "python3"
  },
  "language_info": {
   "codemirror_mode": {
    "name": "ipython",
    "version": 3
   },
   "file_extension": ".py",
   "mimetype": "text/x-python",
   "name": "python",
   "nbconvert_exporter": "python",
   "pygments_lexer": "ipython3",
   "version": "3.9.7"
  }
 },
 "nbformat": 4,
 "nbformat_minor": 5
}
